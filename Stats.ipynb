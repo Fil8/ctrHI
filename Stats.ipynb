{
 "cells": [
  {
   "cell_type": "markdown",
   "metadata": {},
   "source": [
    "### CO - Detection limits\n",
    "\n",
    "- Noise = 0.12 mJy beam$^{-1}$\n",
    "- $\\Delta$v = 9.9 km$^{-1}$\n",
    "\n",
    "**Formulae**:\n",
    "\n",
    "$$\n",
    "T_B [K] =\\frac{2\\ln 2\\cdot c^2\\cdot4.25\\times10^{10} {\\rm sr} \\cdot 10^{-23} {\\rm erg}}{\\pi k_{\\rm B}\\cdot1\\times10^{18} {\\rm Hz}^2}\\cdot S_\\nu[{\\rm Jy\\, beam}^{-1}] \\cdot\\big(\\frac{\\Omega_{\\rm beam}}{{\\rm arcsec}^2}\\big)^{-1} \n",
    "$$\n",
    "\n",
    "$$\n",
    "\\Sigma_{{\\rm H}_2} = 4.3 \\cdot T_{\\rm B,CO} [{\\rm K\\, km\\, s}^{-1}] \n",
    "$$\n",
    "\n"
   ]
  },
  {
   "cell_type": "code",
   "execution_count": 2,
   "metadata": {},
   "outputs": [
    {
     "name": "stdout",
     "output_type": "stream",
     "text": [
      "CO brightnes temperature factor = \t1.220823e+06\n",
      "BeamArea Freq = \t6.126565e+06\n",
      "Temperature Brightness sensitivity [K] = \t2.391205e-03\n",
      "3Sigma CO Surface Brightness Sensitivity [Jy beam-1 km s-1] = \t3.580614e-01\n",
      "3Sigma CO Surface Brightness Sensitivity [K km s-1] = \t7.134986e-02\n",
      "3Sigma H2 Surface Brightness Sensitivity [Msun pc-2] = \t3.068044e-01\n"
     ]
    }
   ],
   "source": [
    "import numpy as np\n",
    "from astropy.coordinates import Angle\n",
    "from astropy.io import fits\n",
    "from astropy import units as u \n",
    "from ants import absInt, fluxInt, headPlay, fitsPlay #radiobs modules\n",
    "\n",
    "\n",
    "home = '/Users/'\n",
    "#home = '/home/'\n",
    "\n",
    "rootDir = home+'maccagni/Projects/MFS/FornaxA/centreHI/'\n",
    "momDirOut = rootDir+'moments/'\n",
    "\n",
    "\n",
    "nu_obs = 114.619317 #GHz\n",
    "C = 2.99792458e10 #cm\n",
    "kb = 1.380649e-16 #erg/K\n",
    "Jy = 1e-23 #erg\n",
    "asecSr = 4.25e10 #sr \n",
    "\n",
    "bmaj = 23.660002 #asec\n",
    "bmin = 19.710000 #asec\n",
    "\n",
    "sigma=12e-3 #Jy/beam\n",
    "deltav=9.94614984961 #km/s\n",
    "\n",
    "fac = 2.*np.log(2.)/(np.pi)*(C*C)/(kb)*asecSr*Jy/1e18\n",
    "\n",
    "print('CO brightnes temperature factor = \\t{0:e}'.format(fac))                                             \n",
    "\n",
    "beamAreaFreq = bmaj*bmin*nu_obs*nu_obs\n",
    "print('BeamArea Freq = \\t{0:e}'.format(beamAreaFreq))\n",
    "\n",
    "\n",
    "t_BSigma = sigma*fac/beamAreaFreq\n",
    "\n",
    "print('Temperature Brightness sensitivity [K] = \\t{0:e}'.format(t_BSigma))\n",
    "\n",
    "sigmaSurf = sigma*deltav\n",
    "print('3Sigma CO Surface Brightness Sensitivity [Jy beam-1 km s-1] = \\t{0:e}'.format(3*sigmaSurf))\n",
    "\n",
    "t_BsigmaSurf = t_BSigma*deltav\n",
    "print('3Sigma CO Surface Brightness Sensitivity [K km s-1] = \\t{0:e}'.format(3*t_BsigmaSurf))\n",
    "\n",
    "\n",
    "H2_sigmaSurf = 4.3*t_BsigmaSurf\n",
    "print('3Sigma H2 Surface Brightness Sensitivity [Msun pc-2] = \\t{0:e}'.format(3.*H2_sigmaSurf))"
   ]
  },
  {
   "cell_type": "markdown",
   "metadata": {},
   "source": [
    "### CO - Masses & Luminosities\n",
    "\n",
    "- S =  Jy beam$^{-1}$ km$^{-1}$ \n",
    "- $\\Theta_x=23.7$ asec, $\\Theta_y=19.7$ arcsec\n",
    "- $\\Delta_{\\rm pix} = 2$ arcsec\n",
    " \n",
    "\n",
    "**Formulae**:\n",
    "\n",
    "$$\n",
    "\t L_{\\rm CO} [L_\\odot] = 1.04\\times10^{-3}S_{\\rm CO} \\Delta v [{\\rm Jy\\,km\\,s}^{-1}] \\nu_{\\rm rest} \\times \\frac{D_L^2\\,[{\\rm Mpc}^2]}{1+z}\n",
    "$$\n",
    "\n",
    "$$\n",
    "    L'_{\\rm CO} [{\\rm K\\, km\\,s}^{-1}\\, {\\rm pc}^2] = 3.25\\times10^{7}S_{\\rm CO} \\Delta v [{\\rm Jy\\,km\\,s}^{-1}] \\nu_{\\rm obs}^{-2} \\times \\frac{D_L^2\\,[{\\rm Mpc}^2]}{(1+z)^3}\n",
    "$$\n",
    "\n",
    "$$M({\\rm H_2}) [M_\\odot] = \\alpha L'_{\\rm CO} = 4.3\\cdot L'_{\\rm CO}$$\n"
   ]
  },
  {
   "cell_type": "code",
   "execution_count": 3,
   "metadata": {},
   "outputs": [
    {
     "name": "stdout",
     "output_type": "stream",
     "text": [
      "Beam/pix = \t1.165847e+02 \n",
      "Flux Density = \t1.546453e+04 Jy/beam km/s\n",
      "Flux  = \t1.326464e+02 Jy km/s\n",
      "Luminosity = \t6.846600e+03 L_sun\n",
      "Temperature Brightness = \t1.399220e+08 K km/s pc-2\n",
      "Mass  = \t6.016647e+08 M_sun\n"
     ]
    },
    {
     "name": "stderr",
     "output_type": "stream",
     "text": [
      "WARNING: VerifyWarning: Invalid 'BLANK' keyword in header.  The 'BLANK' keyword is only applicable to integer data, and will be ignored in this HDU. [astropy.io.fits.hdu.image]\n"
     ]
    }
   ],
   "source": [
    "D_L = 20.8 #Mpc\n",
    "nu_obs = 114.619317 #GHz\n",
    "nu_rest = 115.271202 #GHz\n",
    "z=0.00485\n",
    "C = 2.99792458e10 #cm\n",
    "kb = 1.380649e-16 #erg/K\n",
    "Jy = 1e-23 #erg\n",
    "asecSr = 4.25e10 #asec\n",
    "\n",
    "bmaj = 23.660002 #asec\n",
    "bmin = 19.710000 #asec\n",
    "pix = 2. #asec\n",
    "\n",
    "#Measure total flux from moment map\n",
    "momOutKms=momDirOut+'CO_vrad_cv_regXY_final_mom0_kms.fits'\n",
    "\n",
    "f11 = fits.getdata(momOutKms, ext=0)\n",
    "\n",
    "totalFluxBeam = np.sum(f11)\n",
    "beamArea = (bmaj*bmin)/(pix*pix)\n",
    "\n",
    "totalFlux = np.divide(totalFluxBeam,beamArea)\n",
    "\n",
    "print('Beam/pix = \\t{0:e} '.format(beamArea))\n",
    "print('Flux Density = \\t{0:e} Jy/beam km/s'.format(totalFluxBeam))\n",
    "print('Flux  = \\t{0:e} Jy km/s'.format(totalFlux))\n",
    "\n",
    "\n",
    "lumSun = 1.04e-3*totalFlux*D_L*D_L/(1+z)*nu_rest\n",
    "lumT = 3.25e7*totalFlux*D_L*D_L/(np.power(1+z,3)*(nu_obs*nu_obs))\n",
    "MCO = 4.3*lumT\n",
    "\n",
    "print('Luminosity = \\t{0:e} L_sun'.format(lumSun))\n",
    "print('Temperature Brightness = \\t{0:e} K km/s pc-2'.format(lumT))\n",
    "print('Mass  = \\t{0:e} M_sun'.format(MCO))\n"
   ]
  },
  {
   "cell_type": "markdown",
   "metadata": {},
   "source": [
    "### HI - detection limits\n",
    "\n",
    "- Noise = 100 $\\mu$Jy beam$^{-1}$\n",
    "- $\\Delta$v = 44.106 km$^{-1}$\n",
    "\n",
    "**Formulae**:\n",
    "\n",
    "$$\n",
    "T_B [K] =\\frac{2\\ln 2\\cdot c^2\\cdot4.25\\times10^{10} {\\rm sr} \\cdot 10^{-23} {\\rm erg}}{\\pi k_{\\rm B}\\cdot1\\times10^{18} {\\rm Hz}^2}\\cdot S_\\nu[{\\rm Jy\\, beam}^{-1}] \\cdot\\big(\\frac{\\Omega_{\\rm beam}}{{\\rm arcsec}^2}\\big)^{-1} \n",
    "$$\n",
    "\n",
    "$$\n",
    "N_{\\rm HI} = 3.1\\times10^{17}\\cdot S\\Delta v\\,[{\\rm mJy\\, beam}^{-1}\\, {\\rm km \\,s}^{-1}]\\cdot\\big(\\frac{\\Omega_{\\rm beam}}{{\\rm arcmin}^2}\\big)^{-1}\n",
    "$$\n",
    "\n",
    "$$\n",
    "\\Sigma_{\\rm HI} \\big[\\frac{M_\\odot}{{\\rm pc}^2}\\big]=  8.119\\times 10^{-21}\\cdot \\frac{\\rm atom}{{\\rm cm}^{2}}\n",
    "$$\n",
    "\n",
    "\n",
    "$$\n",
    "\\Sigma_{\\rm HI} \\big[\\frac{M_\\odot}{{\\rm pc}^2}\\big] = 2.483\\times10^{-3} \\cdot S\\Delta v \\,[{\\rm mJy\\, beam}^{-1}\\, {\\rm km \\,s}^{-1}]\\cdot\\big(\\frac{\\Omega_{\\rm beam}}{{\\rm arcmin}^2}\\big)^{-1}\n",
    "$$"
   ]
  },
  {
   "cell_type": "code",
   "execution_count": 4,
   "metadata": {},
   "outputs": [
    {
     "name": "stdout",
     "output_type": "stream",
     "text": [
      "HI brightnes temperature factor = \t1.220823e+06\n",
      "BeamArea Freq = \t9.408627e+02\n",
      "Temperature Brightness sensitivity [K] = \t1.089948e-01\n",
      "1Sigma HI Flux density Sensitivity per channel (?) [Jy beam-1 km s-1] = \t3.704904e-03\n",
      "3Sigma HI Column density Sensitivity per channel [atom cm-2] = \t2.533213e+19\n",
      "3Sigma HI Column Density Sensitivity [atom cm-2] = \t2.659874e+19\n",
      "3Sigma HI Surface Brightness Sensitivity [Msun pc-2] = \t2.131062e-01\n"
     ]
    }
   ],
   "source": [
    "C = 2.99792458e10 #cm\n",
    "kb = 1.380649e-16 #erg/K\n",
    "Jy = 1e-23 #erg\n",
    "asecSr = 4.25e10 #sr \n",
    "\n",
    "mH = 1.6735575e-24  #g\n",
    "mSun = 1.989e33 #g\n",
    "pc = 3.08577758149137e18 #cm\n",
    "nu_obs = 1.42040575 #GHz \n",
    "\n",
    "conversionFactor = mH*pc*pc/(mSun)\n",
    "\n",
    "convFromFlux = conversionFactor*3.1e17\n",
    "\n",
    "sigma=84.e-6 #Jy/beam\n",
    "deltav=44.106 #km/s\n",
    "\n",
    "bmaj = 23.660002/60. #amin\n",
    "bmin = 19.710000/60. #amin\n",
    "\n",
    "fac = 2.*np.log(2.)/(np.pi)*(C*C)/(kb)*asecSr*Jy/1e18\n",
    "\n",
    "print('HI brightnes temperature factor = \\t{0:e}'.format(fac))                                             \n",
    "\n",
    "beamAreaFreq = bmaj*60.*bmin*60.*nu_obs*nu_obs\n",
    "print('BeamArea Freq = \\t{0:e}'.format(beamAreaFreq))\n",
    "\n",
    "t_BSigma = sigma*fac/beamAreaFreq\n",
    "\n",
    "print('Temperature Brightness sensitivity [K] = \\t{0:e}'.format(t_BSigma))\n",
    "\n",
    "sigmaSurf = sigma*deltav\n",
    "print('1Sigma HI Flux density Sensitivity per channel (?) [Jy beam-1 km s-1] = \\t{0:e}'.format(sigmaSurf))\n",
    "\n",
    "\n",
    "sigmaColumn = 3.1e17*0.24e-3*deltav*1e3/(bmaj*bmin)\n",
    "print('3Sigma HI Column density Sensitivity per channel [atom cm-2] = \\t{0:e}'.format(sigmaColumn))\n",
    "\n",
    "nhi_sigma = 3.1e17*sigmaSurf*1e3/(bmaj*bmin)\n",
    "print('3Sigma HI Column Density Sensitivity [atom cm-2] = \\t{0:e}'.format(3.*nhi_sigma))\n",
    "\n",
    "H1_sigmaSurf = convFromFlux*sigmaSurf*1e3/(bmaj*bmin)\n",
    "print('3Sigma HI Surface Brightness Sensitivity [Msun pc-2] = \\t{0:e}'.format(3.*H1_sigmaSurf))"
   ]
  },
  {
   "cell_type": "markdown",
   "metadata": {},
   "source": [
    "### HI - Masses\n",
    "\n",
    "- S =  Jy beam$^{-1}$ km$^{-1}$ \n",
    "- $\\Theta_x=23.7$ asec, $\\Theta_y=19.7$ arcsec\n",
    "- $\\Delta_{\\rm pix} = 2$ arcsec\n",
    " \n",
    "\n",
    "**Formulae**:\n",
    "\n",
    "$$\n",
    "M_{\\rm HI}=2.365\\times 10^5\\cdot S\\Delta v\\, [{\\rm Jy \\,km\\, s}^{-1}] \\cdot \\frac{{D_L}^2}{(1+z)2} \n",
    "$$\n",
    "\n"
   ]
  },
  {
   "cell_type": "code",
   "execution_count": 25,
   "metadata": {},
   "outputs": [
    {
     "name": "stdout",
     "output_type": "stream",
     "text": [
      "JY/BEAM.km/s\n",
      "Beam/pix = \t1.165847e+02 \n",
      "Flux Density = \t1.241029e+02 Jy/beam km/s\n",
      "Flux  = \t1.064487e+00 Jy km/s\n",
      "Mass  = \t1.085032e+08 M_sun\n"
     ]
    }
   ],
   "source": [
    "#Measure total flux from moment map\n",
    "momOut=momDirOut+'mom0_20asec.fits'\n",
    "\n",
    "f11 = fits.getdata(momOut, ext=0)\n",
    "h11 = fits.getheader(momOut, ext=0)\n",
    "\n",
    "print h11['BUNIT']\n",
    "\n",
    "ymin=55\n",
    "ymax=175\n",
    "xmin=55\n",
    "xmax = 155\n",
    "\n",
    "bmaj = 23.660002 #amin\n",
    "bmin = 19.710000\n",
    "\n",
    "totalFluxBeam = np.sum(f11[ymin:ymax,xmin:xmax])\n",
    "beamArea = (bmaj*bmin)/(pix*pix)\n",
    "\n",
    "totalFlux = np.divide(totalFluxBeam,beamArea)\n",
    "\n",
    "print('Beam/pix = \\t{0:e} '.format(beamArea))\n",
    "print('Flux Density = \\t{0:e} Jy/beam km/s'.format(totalFluxBeam))\n",
    "print('Flux  = \\t{0:e} Jy km/s'.format(totalFlux))\n",
    "\n",
    "\n",
    "MHI = 2.356e5*totalFlux*D_L*D_L\n",
    "\n",
    "print('Mass  = \\t{0:e} M_sun'.format(MHI))"
   ]
  },
  {
   "cell_type": "code",
   "execution_count": 22,
   "metadata": {},
   "outputs": [
    {
     "name": "stdout",
     "output_type": "stream",
     "text": [
      "H2/H1  = \t5.524032e+00 \n"
     ]
    }
   ],
   "source": [
    "MH2MH1 = MCO/MHI\n",
    "\n",
    "print('H2/H1  = \\t{0:e} '.format(MH2MH1))\n"
   ]
  },
  {
   "cell_type": "code",
   "execution_count": null,
   "metadata": {},
   "outputs": [],
   "source": []
  }
 ],
 "metadata": {
  "kernelspec": {
   "display_name": "Python 2",
   "language": "python",
   "name": "python2"
  },
  "language_info": {
   "codemirror_mode": {
    "name": "ipython",
    "version": 2
   },
   "file_extension": ".py",
   "mimetype": "text/x-python",
   "name": "python",
   "nbconvert_exporter": "python",
   "pygments_lexer": "ipython2",
   "version": "2.7.16"
  }
 },
 "nbformat": 4,
 "nbformat_minor": 2
}
