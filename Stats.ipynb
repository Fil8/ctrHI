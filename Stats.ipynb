{
 "cells": [
  {
   "cell_type": "markdown",
   "metadata": {},
   "source": [
    "### CO - Detection limits\n",
    "\n",
    "- Noise = 0.12 mJy beam$^{-1}$\n",
    "- $\\Delta$v = 9.9 km$^{-1}$\n",
    "\n",
    "**Formulae**:\n",
    "\n",
    "$$\n",
    "T_B [K] =\\frac{2\\ln 2\\cdot c^2\\cdot4.25\\times10^{10} {\\rm sr} \\cdot 10^{-23} {\\rm erg}}{\\pi k_{\\rm B}\\cdot1\\times10^{18} {\\rm Hz}^2}\\cdot S_\\nu[{\\rm Jy\\, beam}^{-1}] \\cdot\\big(\\frac{\\Omega_{\\rm beam}}{{\\rm arcsec}^2}\\big)^{-1} \n",
    "$$\n",
    "\n",
    "$$\n",
    "\\Sigma_{{\\rm H}_2} = 4.3 \\cdot T_{\\rm B,CO} [{\\rm K\\, km\\, s}^{-1}] \n",
    "$$\n",
    "\n"
   ]
  },
  {
   "cell_type": "code",
   "execution_count": 41,
   "metadata": {},
   "outputs": [
    {
     "name": "stdout",
     "output_type": "stream",
     "text": [
      "CO brightnes temperature factor = \t1.220823e+06\n",
      "BeamArea Freq = \t6.126565e+06\n",
      "Temperature Brightness sensitivity [K] = \t2.391205e-03\n",
      "3Sigma CO Surface Brightness Sensitivity [Jy beam-1 km s-1] = \t3.580614e-01\n",
      "3Sigma CO Surface Brightness Sensitivity [K km s-1] = \t7.134986e-02\n",
      "3Sigma H2 Surface Brightness Sensitivity [Msun pc-2] = \t3.068044e-01\n"
     ]
    }
   ],
   "source": [
    "import numpy as np\n",
    "from astropy.coordinates import Angle\n",
    "from astropy.io import fits\n",
    "from astropy import units as u \n",
    "from ants import absInt, fluxInt, headPlay, fitsPlay #radiobs modules\n",
    "\n",
    "nu_obs = 114.619317 #GHz\n",
    "C = 2.99792458e10 #cm\n",
    "kb = 1.380649e-16 #erg/K\n",
    "Jy = 1e-23 #erg\n",
    "asecSr = 4.25e10 #sr \n",
    "\n",
    "bmaj = 23.660002 #asec\n",
    "bmin = 19.710000 #asec\n",
    "\n",
    "sigma=12e-3 #Jy/beam\n",
    "deltav=9.94614984961 #km/s\n",
    "\n",
    "fac = 2.*np.log(2.)/(np.pi)*(C*C)/(kb)*asecSr*Jy/1e18\n",
    "\n",
    "print('CO brightnes temperature factor = \\t{0:e}'.format(fac))                                             \n",
    "\n",
    "beamAreaFreq = bmaj*bmin*nu_obs*nu_obs\n",
    "print('BeamArea Freq = \\t{0:e}'.format(beamAreaFreq))\n",
    "\n",
    "\n",
    "t_BSigma = sigma*fac/beamAreaFreq\n",
    "\n",
    "print('Temperature Brightness sensitivity [K] = \\t{0:e}'.format(t_BSigma))\n",
    "\n",
    "sigmaSurf = sigma*deltav\n",
    "print('3Sigma CO Surface Brightness Sensitivity [Jy beam-1 km s-1] = \\t{0:e}'.format(3*sigmaSurf))\n",
    "\n",
    "t_BsigmaSurf = t_BSigma*deltav\n",
    "print('3Sigma CO Surface Brightness Sensitivity [K km s-1] = \\t{0:e}'.format(3*t_BsigmaSurf))\n",
    "\n",
    "\n",
    "H2_sigmaSurf = 4.3*t_BsigmaSurf\n",
    "print('3Sigma H2 Surface Brightness Sensitivity [Msun pc-2] = \\t{0:e}'.format(3.*H2_sigmaSurf))"
   ]
  },
  {
   "cell_type": "markdown",
   "metadata": {},
   "source": [
    "### HI - detection limits\n",
    "\n",
    "- Noise = 100 $\\mu$Jy beam$^{-1}$\n",
    "- $\\Delta$v = 44.106 km$^{-1}$\n",
    "\n",
    "**Formulae**:\n",
    "\n",
    "$$\n",
    "T_B [K] =\\frac{2\\ln 2\\cdot c^2\\cdot4.25\\times10^{10} {\\rm sr} \\cdot 10^{-23} {\\rm erg}}{\\pi k_{\\rm B}\\cdot1\\times10^{18} {\\rm Hz}^2}\\cdot S_\\nu[{\\rm Jy\\, beam}^{-1}] \\cdot\\big(\\frac{\\Omega_{\\rm beam}}{{\\rm arcsec}^2}\\big)^{-1} \n",
    "$$\n",
    "\n",
    "$$\n",
    "N_{\\rm HI} = 3.1\\times10^{17}\\cdot S\\Delta v\\,[{\\rm mJy\\, beam}^{-1}\\, {\\rm km \\,s}^{-1}]\\cdot\\big(\\frac{\\Omega_{\\rm beam}}{{\\rm arcmin}^2}\\big)^{-1}\n",
    "$$\n",
    "\n",
    "$$\n",
    "\\Sigma_{\\rm HI} \\big[\\frac{M_\\odot}{{\\rm pc}^2}\\big]=  8.119\\times 10^{-21}\\cdot \\frac{\\rm atom}{{\\rm cm}^{2}}\n",
    "$$\n",
    "\n",
    "\n",
    "$$\n",
    "\\Sigma_{\\rm HI} \\big[\\frac{M_\\odot}{{\\rm pc}^2}\\big] = 2.483\\times10^{-3} \\cdot S\\Delta v \\,[{\\rm mJy\\, beam}^{-1}\\, {\\rm km \\,s}^{-1}]\\cdot\\big(\\frac{\\Omega_{\\rm beam}}{{\\rm arcmin}^2}\\big)^{-1}\n",
    "$$"
   ]
  },
  {
   "cell_type": "code",
   "execution_count": 42,
   "metadata": {},
   "outputs": [
    {
     "name": "stdout",
     "output_type": "stream",
     "text": [
      "HI brightnes temperature factor = \t1.220823e+06\n",
      "BeamArea Freq = \t9.408627e+02\n",
      "Temperature Brightness sensitivity [K] = \t1.297557e-01\n",
      "1Sigma HI Flux density Sensitivity per channel (?) [Jy beam-1 km s-1] = \t4.410600e-03\n",
      "3Sigma HI Column Density Sensitivity [atom cm-2] = \t3.166516e+19\n",
      "3Sigma HI Surface Brightness Sensitivity [Msun pc-2] = \t2.536979e-01\n"
     ]
    }
   ],
   "source": [
    "C = 2.99792458e10 #cm\n",
    "kb = 1.380649e-16 #erg/K\n",
    "Jy = 1e-23 #erg\n",
    "asecSr = 4.25e10 #sr \n",
    "\n",
    "mH = 1.6735575e-24  #g\n",
    "mSun = 1.989e33 #g\n",
    "pc = 3.08577758149137e18 #cm\n",
    "nu_obs = 1.42040575 #GHz \n",
    "\n",
    "conversionFactor = mH*pc*pc/(mSun)\n",
    "\n",
    "convFromFlux = conversionFactor*3.1e17\n",
    "\n",
    "sigma=100e-6 #Jy/beam\n",
    "deltav=44.106 #km/s\n",
    "\n",
    "bmaj = 23.660002/60. #amin\n",
    "bmin = 19.710000/60. #amin\n",
    "\n",
    "fac = 2.*np.log(2.)/(np.pi)*(C*C)/(kb)*asecSr*Jy/1e18\n",
    "\n",
    "print('HI brightnes temperature factor = \\t{0:e}'.format(fac))                                             \n",
    "\n",
    "beamAreaFreq = bmaj*60.*bmin*60.*nu_obs*nu_obs\n",
    "print('BeamArea Freq = \\t{0:e}'.format(beamAreaFreq))\n",
    "\n",
    "t_BSigma = sigma*fac/beamAreaFreq\n",
    "\n",
    "print('Temperature Brightness sensitivity [K] = \\t{0:e}'.format(t_BSigma))\n",
    "\n",
    "sigmaSurf = sigma*deltav\n",
    "print('1Sigma HI Flux density Sensitivity per channel (?) [Jy beam-1 km s-1] = \\t{0:e}'.format(sigmaSurf))\n",
    "\n",
    "nhi_sigma = 3.1e17*sigmaSurf*1e3/(bmaj*bmin)\n",
    "print('3Sigma HI Column Density Sensitivity [atom cm-2] = \\t{0:e}'.format(3.*nhi_sigma))\n",
    "\n",
    "H1_sigmaSurf = convFromFlux*sigmaSurf*1e3/(bmaj*bmin)\n",
    "print('3Sigma HI Surface Brightness Sensitivity [Msun pc-2] = \\t{0:e}'.format(3.*H1_sigmaSurf))"
   ]
  },
  {
   "cell_type": "code",
   "execution_count": null,
   "metadata": {},
   "outputs": [],
   "source": []
  }
 ],
 "metadata": {
  "kernelspec": {
   "display_name": "Python 2",
   "language": "python",
   "name": "python2"
  },
  "language_info": {
   "codemirror_mode": {
    "name": "ipython",
    "version": 2
   },
   "file_extension": ".py",
   "mimetype": "text/x-python",
   "name": "python",
   "nbconvert_exporter": "python",
   "pygments_lexer": "ipython2",
   "version": "2.7.16"
  }
 },
 "nbformat": 4,
 "nbformat_minor": 2
}
