{
 "cells": [
  {
   "cell_type": "markdown",
   "metadata": {},
   "source": [
    "## Absorption along continuum emission\n",
    "\n",
    "- ctr = centre coordinates where Absorption is seen in kvis"
   ]
  },
  {
   "cell_type": "code",
   "execution_count": null,
   "metadata": {},
   "outputs": [],
   "source": [
    "import numpy as np\n",
    "import shutil\n",
    "from astropy.io import ascii, fits\n",
    "from ants import absInt, fluxInt\n",
    "\n",
    "abSex = absInt.absint()\n",
    "fl = fluxInt.fluxint()\n",
    "\n",
    "get_ipython().magic(u'pylab inline')\n",
    "\n",
    "\n",
    "#Inputs\n",
    "cubeDir = '/Users/maccagni/data/MFS/MeerKATComm/fa4/cubes/'\n",
    "cubeName = cubeDir+'M64_FA_UF-2deg_r0.5_HI.image.fits'\n",
    "\n",
    "contDir = '/Users/maccagni/data/MFS/MeerKATComm/fa4/continuum/'\n",
    "#contName = contDir+'M64_FA_UF-meq_2-MFS-image.fits'\n",
    "contName = '/Users/maccagni/Projects/MFS/FornaxA/contData/inIms/Meer_1440MHz_div_bt32.fits'\n",
    "\n",
    "raCtr = '03:22:41.909'\n",
    "decCtr= '-37:12:30.00'\n",
    "\n",
    "raNoise = '03:23:10.775'\n",
    "decNoise= '-37:10:32.28'\n",
    "\n",
    "sysVel = 1760.\n",
    "\n",
    "#Outputs\n",
    "outDir = '/Users/maccagni/Projects/MFS/FornaxA/centreHI/absorption/spectra/'\n",
    "plotDir = '/Users/maccagni/Projects/MFS/FornaxA/centreHI/absorption/plots/'\n",
    "specName = outDir+'M64-ctr-r0.5'\n",
    "outPlot = plotDir+'M64-ctr-r0.5.png'\n",
    "\n",
    "\n",
    "print '''\\t+---------+\\n\\t Inputs loaded\\n\\t+---------+'''"
   ]
  },
  {
   "cell_type": "code",
   "execution_count": null,
   "metadata": {
    "scrolled": false
   },
   "outputs": [],
   "source": [
    "fluxCont = fl.pointFlux(contName,raCtr,decCtr)\n",
    "abSex.abSex(cubeName,specName,fluxCont,raCtr,decCtr,raNoise,decNoise)\n",
    "abSex.absPlot(specName+'.txt',outPlot,sysVel,30)\n",
    "\n",
    "\n",
    "\n",
    "print '''\\t+---------+\\n\\t Spectrum plotted\\n\\t+---------+'''"
   ]
  },
  {
   "cell_type": "code",
   "execution_count": null,
   "metadata": {},
   "outputs": [],
   "source": [
    "spec = ascii.read(specName+'.txt')\n",
    "flux = np.array(spec[spec.colnames[1]], dtype=float)\n",
    "optDepth = np.array(spec[spec.colnames[3]], dtype=float)\n",
    "\n",
    "\n",
    "velArray = abSex.zaxis(cubeName)\n",
    "velStep = (velArray[0]-velArray[-1])/len(velArray)/1e3\n",
    "\n",
    "indexMin = np.nanargmin(flux)\n",
    "\n",
    "indexMin64 = indexMin\n",
    "\n",
    "oD = optDepth[indexMin]\n",
    "\n",
    "print 'FluPk = '+str(np.round(flux[indexMin],6))\n",
    "print 'tauPk = '+str(np.round(oD,6))\n",
    "\n",
    "nhi = abSex.nhiAbs(oD,velStep)\n",
    "\n",
    "print nhi/100\n",
    "\n",
    "base = fits.open(cubeName)\n",
    "heads = base[0].header\n",
    "\n",
    "bmaj = heads['BMAJ']\n",
    "bmin = heads['BMIN']\n",
    "\n",
    "print '''Beam =\\t'''+str(bmaj*3600.)+''''' x '''+str(bmaj*3600.)+''''' '''\n"
   ]
  },
  {
   "cell_type": "code",
   "execution_count": null,
   "metadata": {},
   "outputs": [],
   "source": [
    "#Inputs\n",
    "cubeName = cubeDir+'M64_FA_UF-r0.5-lng_HI.image.fits'\n",
    "\n",
    "#Outputs\n",
    "specName = outDir+'M64-ctr-r0.5-t10'\n",
    "outPlot = plotDir+'M64-ctr-r0.5-t10.png'\n",
    "\n",
    "\n",
    "abSex.abSex(cubeName,specName,fluxCont,raCtr,decCtr,raNoise,decNoise)\n",
    "abSex.absPlot(specName+'.txt',outPlot,sysVel,30)\n",
    "\n",
    "\n",
    "print '''\\t+---------+\\n\\t Spectrum plotted\\n\\t+---------+'''"
   ]
  },
  {
   "cell_type": "code",
   "execution_count": null,
   "metadata": {},
   "outputs": [],
   "source": [
    "spec = ascii.read(specName+'.txt')\n",
    "flux = np.array(spec[spec.colnames[1]], dtype=float)\n",
    "optDepth = np.array(spec[spec.colnames[3]], dtype=float)\n",
    "\n",
    "\n",
    "#velArray = abSex.zaxis(cubeName)\n",
    "#velStep = (velArray[0]-velArray[-1])/len(velArray)/1e3\n",
    "\n",
    "indexMin = np.nanargmin(flux)\n",
    "\n",
    "\n",
    "\n",
    "oD = optDepth[indexMin64]\n",
    "\n",
    "print 'FluPk = '+str(np.round(flux[indexMin64],6))\n",
    "\n",
    "print 'FluPk = '+str(np.round(flux[indexMin],6))\n",
    "print 'tauPk = '+str(np.round(oD,6))\n",
    "\n",
    "nhi = abSex.nhiAbs(oD,velStep)\n",
    "\n",
    "print nhi/100\n",
    "\n",
    "base = fits.open(cubeName)\n",
    "heads = base[0].header\n",
    "\n",
    "bmaj = heads['BMAJ']\n",
    "bmin = heads['BMIN']\n",
    "\n",
    "print '''Beam =\\t'''+str(bmaj*3600.)+''''' x '''+str(bmaj*3600.)+''''' '''"
   ]
  },
  {
   "cell_type": "code",
   "execution_count": null,
   "metadata": {},
   "outputs": [],
   "source": [
    "#Inputs\n",
    "cubeName = cubeDir+'M64_FA_UF-2deg_r0.5-t20_HI.image.fits'\n",
    "#Outputs\n",
    "specName = outDir+'M64-ctr-r0.5-t20'\n",
    "outPlot = plotDir+'M64-ctr-r0.5-t20.png'\n",
    "\n",
    "\n",
    "abSex.abSex(cubeName,specName,fluxCont,raCtr,decCtr,raNoise,decNoise)\n",
    "abSex.absPlot(specName+'.txt',outPlot,sysVel,30)\n",
    "\n",
    "\n",
    "print '''\\t+---------+\\n\\t Spectrum plotted\\n\\t+---------+'''"
   ]
  },
  {
   "cell_type": "code",
   "execution_count": null,
   "metadata": {},
   "outputs": [],
   "source": [
    "spec = ascii.read(specName+'.txt')\n",
    "flux = np.array(spec[spec.colnames[1]], dtype=float)\n",
    "optDepth = np.array(spec[spec.colnames[3]], dtype=float)\n",
    "\n",
    "\n",
    "velArray = abSex.zaxis(cubeName)\n",
    "velStep = (velArray[0]-velArray[-1])/len(velArray)/1e3\n",
    "\n",
    "indexMin = np.nanargmin(flux)\n",
    "\n",
    "oD = optDepth[indexMin]\n",
    "\n",
    "print 'FluPk = '+str(np.round(flux[indexMin],6))\n",
    "print 'tauPk = '+str(np.round(oD,6))\n",
    "\n",
    "nhi = abSex.nhiAbs(oD,velStep)\n",
    "\n",
    "print nhi/100\n",
    "\n",
    "base = fits.open(cubeName)\n",
    "heads = base[0].header\n",
    "\n",
    "bmaj = heads['BMAJ']\n",
    "bmin = heads['BMIN']\n",
    "\n",
    "print '''Beam =\\t'''+str(bmaj*3600.)+''''' x '''+str(bmaj*3600.)+''''' '''"
   ]
  },
  {
   "cell_type": "markdown",
   "metadata": {},
   "source": [
    "### MeerKAT 40 - antennas"
   ]
  },
  {
   "cell_type": "code",
   "execution_count": null,
   "metadata": {},
   "outputs": [],
   "source": [
    "#Inputs\n",
    "cubeDir = '/home/maccagni/Projects/MFS/FornaxA/MeerKAT/fa3/data_reduction/cubes/'\n",
    "cubeName = cubeDir+'fa3_100MHz_r0p5_HI_1.image.fits'\n",
    "\n",
    "contDir = '/home/maccagni/Projects/MFS/FornaxA/MeerKAT/fa3/data_reduction/output/'\n",
    "contName = contDir+'fa3_120MHz_fl2_2-MFS-image.fits'\n",
    "\n",
    "#Outputs\n",
    "outDir = '/home/maccagni/Projects/MFS/FornaxA/centreHI/absorption/spectra/'\n",
    "plotDir = '/home/maccagni/Projects/MFS/FornaxA/centreHI/absorption/plots/'\n",
    "specName = outDir+'M40-ctr'\n",
    "outPlot = plotDir+'M40-ctr.png'\n",
    "\n",
    "\n",
    "print '''\\t+---------+\\n\\t Inputs loaded\\n\\t+---------+'''"
   ]
  },
  {
   "cell_type": "code",
   "execution_count": null,
   "metadata": {},
   "outputs": [],
   "source": [
    "fluxCont = fl.pointFlux(contName,raCtr,decCtr)\n",
    "abSex.abSex(cubeName,specName,fluxCont,raCtr,decCtr,raNoise,decNoise)\n",
    "abSex.absPlot(specName+'.txt',outPlot,sysVel,40)\n",
    "\n",
    "print '''\\t+---------+\\n\\t Spectrum plotted\\n\\t+---------+'''"
   ]
  },
  {
   "cell_type": "code",
   "execution_count": null,
   "metadata": {},
   "outputs": [],
   "source": [
    "spec = ascii.read(specName+'.txt')\n",
    "flux = np.array(spec[spec.colnames[1]], dtype=float)\n",
    "optDepth = np.array(spec[spec.colnames[3]], dtype=float)\n",
    "\n",
    "\n",
    "a0 = velArray[indexMin64]\n",
    "\n",
    "velArray = abSex.zaxis(cubeName)\n",
    "velStep = (velArray[0]-velArray[-1])/len(velArray)/1e3\n",
    "\n",
    "indexMin = np.abs(velArray - a0).argmin()\n",
    "#indexMin = np.nanargmin(flux)\n",
    "\n",
    "\n",
    "\n",
    "oD = optDepth[indexMin]\n",
    "print 'FluPk = '+str(np.round(flux[indexMin],6))\n",
    "print 'tauPk = '+str(np.round(oD,6))\n",
    "\n",
    "nhi = abSex.nhiAbs(oD,velStep)\n",
    "\n",
    "print nhi/100\n",
    "\n",
    "base = fits.open(cubeName)\n",
    "heads = base[0].header\n",
    "\n",
    "bmaj = heads['BMAJ']\n",
    "bmin = heads['BMIN']\n",
    "\n",
    "print '''Beam =\\t'''+str(bmaj*3600.)+''''' x '''+str(bmaj*3600.)+''''' '''"
   ]
  },
  {
   "cell_type": "code",
   "execution_count": null,
   "metadata": {},
   "outputs": [],
   "source": []
  },
  {
   "cell_type": "code",
   "execution_count": null,
   "metadata": {},
   "outputs": [],
   "source": []
  },
  {
   "cell_type": "code",
   "execution_count": null,
   "metadata": {},
   "outputs": [],
   "source": []
  }
 ],
 "metadata": {
  "kernelspec": {
   "display_name": "Python 2",
   "language": "python",
   "name": "python2"
  },
  "language_info": {
   "codemirror_mode": {
    "name": "ipython",
    "version": 2
   },
   "file_extension": ".py",
   "mimetype": "text/x-python",
   "name": "python",
   "nbconvert_exporter": "python",
   "pygments_lexer": "ipython2",
   "version": "2.7.16"
  }
 },
 "nbformat": 4,
 "nbformat_minor": 2
}
