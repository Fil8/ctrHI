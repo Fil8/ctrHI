{
 "cells": [
  {
   "cell_type": "code",
   "execution_count": 6,
   "metadata": {},
   "outputs": [
    {
     "name": "stdout",
     "output_type": "stream",
     "text": [
      "\t+---------+\n",
      "\t Inputs loaded\n",
      "\t+---------+\n"
     ]
    }
   ],
   "source": [
    "from mpdaf.obj import Cube\n",
    "from astropy.io import fits\n",
    "\n",
    "rootDir = '/home/maccagni/Projects/MFS/FornaxA/MUSE/'\n",
    "rawDir = rootDir+'rawCubes/'\n",
    "cubeDir = rootDir+'cubes/'\n",
    "\n",
    "print '''\\t+---------+\\n\\t Inputs loaded\\n\\t+---------+''' "
   ]
  },
  {
   "cell_type": "code",
   "execution_count": 3,
   "metadata": {},
   "outputs": [
    {
     "name": "stdout",
     "output_type": "stream",
     "text": [
      "\t+---------+\n",
      "\t Cube Open\n",
      "\t+---------+\n"
     ]
    }
   ],
   "source": [
    "cube1 = 'ADP.2016-06-20T15:14:47.831.fits'\n",
    "cube2 = 'ADP.2016-06-20T15:14:47.847.fits'\n",
    "cube3 = 'ADP.2016-06-21T08:50:02.711.fits'\n",
    "cube4 = 'ADP.2016-06-21T08:50:02.727.fits'\n",
    "\n",
    "#cube = Cube(filename=rawDir+cube1)\n",
    "\n",
    "\n",
    "\n",
    "print '''\\t+---------+\\n\\t Cube Open\\n\\t+---------+''' "
   ]
  },
  {
   "cell_type": "code",
   "execution_count": 8,
   "metadata": {},
   "outputs": [
    {
     "name": "stdout",
     "output_type": "stream",
     "text": [
      "XTENSION= 'IMAGE   '           / IMAGE extension                                BITPIX  =                  -32 / number of bits per data pixel                  NAXIS   =                    3 / number of data axes                            NAXIS1  =                 1189 / length of data axis 1                          NAXIS2  =                  932 / length of data axis 2                          NAXIS3  =                 3681 / length of data axis 3                          PCOUNT  =                    0 / required keyword; must = 0                     GCOUNT  =                    1 / required keyword; must = 1                     EXTNAME = 'DATA    '           / This extension contains data values            HDUCLASS= 'ESO     '           / class name (ESO format)                        HDUDOC  = 'DICD    '           / document with class description                HDUVERS = 'DICD version 6'     / version number (according to spec v2.5.1)      HDUCLAS1= 'IMAGE   '           / Image data format                              HDUCLAS2= 'DATA    '           / this extension contains the data itself        ERRDATA = 'STAT    '           / pointer to the variance extension              OBJECT  = 'NGC1316 (DATA)'                                                      BUNIT   = '10**(-20)*erg/s/cm**2/Angstrom'                                      CRPIX1  =     780.168377725994 / Pixel coordinate of reference point            CRPIX2  =     578.307760869345 / Pixel coordinate of reference point            CD1_1   = -5.55555555555556E-05 / Coordinate transformation matrix element      CD1_2   =                   0. / Coordinate transformation matrix element       CD2_1   =                   0. / Coordinate transformation matrix element       CD2_2   = 5.55555555555556E-05 / Coordinate transformation matrix element       CUNIT1  = 'deg     '           / Units of coordinate increment and value        CUNIT2  = 'deg     '           / Units of coordinate increment and value        CTYPE1  = 'RA---TAN'           / Right ascension, gnomonic projection           CTYPE2  = 'DEC--TAN'           / Declination, gnomonic projection               CSYER1  =    1.51033062781E-05 / [deg] Systematic error in coordinate           CSYER2  =    5.76768648658E-06 / [deg] Systematic error in coordinate           CRVAL1  =            50.667237                                                  CRVAL2  =             -37.2128                                                  CTYPE3  = 'AWAV    '                                                            CUNIT3  = 'Angstrom'                                                            CD3_3   =                 1.25                                                  CRPIX3  =                   1.                                                  CRVAL3  =        4749.89453125                                                  CRDER3  =                0.026 / [Angstrom] Random error in spectral coordinate CD1_3   =                   0.                                                  CD2_3   =                   0.                                                  CD3_1   =                   0.                                                  CD3_2   =                   0.                                                  TITLE   = 'NGC1316_1137847_2014-11-16T06:37:53.270_WFM-NOAO-N_OBJ'              CHECKSUM= 'WhAfahAdYhAdahAd'   / HDU checksum updated 2016-05-30T17:27:47       DATASUM = '1940863659'         / data unit checksum updated 2016-05-30T17:27:47 END                                                                                                                                                                                                                                                                                                                                                                                                                                                                                                                                                                                                                                                                                                                                                                                                                                                                                                                                                                                                                                                                                                                                                                                                                                                                                                                                                                                                                                                                                                                                                                                                                                                                                                                                                                                                                                                                                                                                                                                                                                                                                                                                                                                                                                                                                                                             \n",
      "\t+---------+\n",
      "\t Cube Written\n",
      "\t+---------+\n"
     ]
    }
   ],
   "source": [
    "f=fits.open(rawDir+cube2)\n",
    "\n",
    "data = f[1].data\n",
    "head=f[1].header\n",
    "\n",
    "print head\n",
    "cubeNoExt = cubeDir+'cube2.fits'\n",
    "fits.writeto(cubeNoExt,data,head,overwrite=True)\n",
    "\n",
    "print '''\\t+---------+\\n\\t Cube Written\\n\\t+---------+''' "
   ]
  },
  {
   "cell_type": "code",
   "execution_count": null,
   "metadata": {},
   "outputs": [],
   "source": []
  }
 ],
 "metadata": {
  "kernelspec": {
   "display_name": "Python 2",
   "language": "python",
   "name": "python2"
  },
  "language_info": {
   "codemirror_mode": {
    "name": "ipython",
    "version": 2
   },
   "file_extension": ".py",
   "mimetype": "text/x-python",
   "name": "python",
   "nbconvert_exporter": "python",
   "pygments_lexer": "ipython2",
   "version": "2.7.16"
  }
 },
 "nbformat": 4,
 "nbformat_minor": 2
}
