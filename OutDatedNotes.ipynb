{
 "cells": [
  {
   "cell_type": "code",
   "execution_count": null,
   "metadata": {},
   "outputs": [],
   "source": [
    "import numpy as np\n",
    "from astropy.coordinates import Angle\n",
    "from astropy.io import fits\n",
    "from astropy import units as u \n",
    "from ants import absInt, fluxInt, headPlay, fitsPlay #radiobs modules\n",
    "\n",
    "\n",
    "fl = fluxInt.fluxint()\n",
    "hp = headPlay.headplay()\n",
    "fp = fitsPlay.fitsplay()\n",
    "\n",
    "\n",
    "get_ipython().magic(u'pylab inline')\n",
    "\n",
    "\n",
    "#home = '/Users/'\n",
    "home = '/home/'\n",
    "\n",
    "\n",
    "rootDir = home+'maccagni/Projects/MFS/FornaxA/centreHI/'\n",
    "cubeDir = home+'maccagni/data/MFS/MeerKATComm/fa4/cubes/'\n",
    "acaDir = home+'maccagni/data/MFS/FornaxA/ACA/'\n",
    "\n",
    "print('''\\n\\t+---------+\\n\\t Inputs loaded\\n\\t+---------+''')"
   ]
  },
  {
   "cell_type": "code",
   "execution_count": null,
   "metadata": {},
   "outputs": [],
   "source": [
    "#------------------#\n",
    "# CO BUNIT OUTDATED -> new convolved moment map already in Jy/beam*km/s\n",
    "#------------------#\n",
    "\n",
    "coMomName = acaDir+'/co10Cubes/NGC1316_TP_7M_CO.feather.image_mom0.fits.gz'\n",
    "momDirOut = rootDir+'moments/'\n",
    "\n",
    "momOutName=momDirOut+'mom0_CO.fits'\n",
    "\n",
    "coCubeName = rootDir+'cubes/CO_vrad.fits'\n",
    "coHead=hp.printHead(coCubeName)\n",
    "\n",
    "fileIn = fits.open(coMomName)\n",
    "datas = fileIn[0].data\n",
    "heads  = fileIn[0].header\n",
    "datas = np.multiply(datas,float(2.6005929685193367e-06))\n",
    "heads['BUNIT'] = 'Jy/beam*km/s'\n",
    "del heads['DATAMIN']\n",
    "del heads['DATAMAX']\n",
    "fits.writeto(momOutName,datas,heads,overwrite=True)\n",
    "\n",
    "print '''\\n\\t+---------+\\n\\t BUNIT modified\\n\\t+---------+'''\n"
   ]
  },
  {
   "cell_type": "code",
   "execution_count": null,
   "metadata": {},
   "outputs": [],
   "source": [
    "#------------------#\n",
    "# Temporary\n",
    "#------------------#\n",
    "\n",
    "\n",
    "coName = rootDir+'/cubes/'+'CO_vrad.fits'\n",
    "coHead=hp.printHead(coName)\n",
    "\n",
    "hp.putHead(coName,'CDELT3',coHead['CDELT3']*1e3)\n",
    "hp.putHead(coName,'CRVAL3',coHead['CRVAL3']*1e3)\n",
    "hp.putHead(coName,'SPECSYS','BARYCENT')\n",
    "\n",
    "print '''\\n\\t+---------+\\n\\t Computed\\n\\t+---------+'''\n"
   ]
  }
 ],
 "metadata": {
  "kernelspec": {
   "display_name": "Python 2",
   "language": "python",
   "name": "python2"
  },
  "language_info": {
   "codemirror_mode": {
    "name": "ipython",
    "version": 2
   },
   "file_extension": ".py",
   "mimetype": "text/x-python",
   "name": "python",
   "nbconvert_exporter": "python",
   "pygments_lexer": "ipython2",
   "version": "2.7.16"
  }
 },
 "nbformat": 4,
 "nbformat_minor": 2
}
