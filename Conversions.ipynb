{
 "cells": [
  {
   "cell_type": "code",
   "execution_count": 1,
   "metadata": {},
   "outputs": [
    {
     "name": "stdout",
     "output_type": "stream",
     "text": [
      "Populating the interactive namespace from numpy and matplotlib\n",
      "\t+---------+\n",
      "\t Inputs loaded\n",
      "\t+---------+\n"
     ]
    }
   ],
   "source": [
    "import numpy as np\n",
    "import shutil\n",
    "from astropy.coordinates import Angle\n",
    "from astropy.io import ascii, fits\n",
    "from astropy import units as u \n",
    "from ants import absInt, fluxInt, headPlay, fitsPlay\n",
    "\n",
    "\n",
    "abSex = absInt.absint()\n",
    "fl = fluxInt.fluxint()\n",
    "hp = headPlay.headplay()\n",
    "fp = fitsPlay.fitsplay()\n",
    "\n",
    "\n",
    "get_ipython().magic(u'pylab inline')\n",
    "\n",
    "\n",
    "rootDir = '/Users/maccagni/Projects/MFS/FornaxA/centreHI/'\n",
    "cubeDir = '/Users/maccagni/data/MFS/MeerKATComm/fa4/cubes/'\n",
    "momDir = rootDir+'FA_centre/'\n",
    "mom0Name= momDir+'MIAPP-t10_6_mom0.fits'\n",
    "\n",
    "\n",
    "print '''\\t+---------+\\n\\t Inputs loaded\\n\\t+---------+'''"
   ]
  },
  {
   "cell_type": "markdown",
   "metadata": {},
   "source": [
    "### Convert mom0 Map to column density\n",
    "\n",
    "$$\n",
    "N_{\\rm HI} = 3.1\\times10^{17} \\frac{SdV}{\\Theta^2}\n",
    "$$\n",
    "\n",
    "\n",
    "- SdV : integrated flux in mJy*km/s or Jy * m/s \n",
    "- $\\Theta^2$ : beam size in arcmin "
   ]
  },
  {
   "cell_type": "code",
   "execution_count": 5,
   "metadata": {},
   "outputs": [
    {
     "name": "stdout",
     "output_type": "stream",
     "text": [
      "SIMPLE \tTrue\n",
      "BITPIX \t-32\n",
      "NAXIS \t2\n",
      "NAXIS1 \t25\n",
      "NAXIS2 \t34\n",
      "CTYPE1 \tRA---SIN\n",
      "CRPIX1 \t14.0\n",
      "CDELT1 \t-0.00138888888889\n",
      "CRVAL1 \t50.67375\n",
      "CTYPE2 \tDEC--SIN\n",
      "CRPIX2 \t18.0\n",
      "CDELT2 \t0.00138888888889\n",
      "CRVAL2 \t-37.2083333333\n",
      "ORIGIN \tSoFiA 2.0.0\n",
      "SPECSYS \t0.0\n",
      "EQUINOX \t2000.0\n",
      "BUNIT \tJy/beam*m/s\n",
      "BMAJ \t0.00664442496252\n",
      "BMIN \t0.00533499983768\n",
      "BPA \t134.940537921\n",
      "23.9199298651\n",
      "0.398665497751\n",
      "/Users/maccagni/Projects/MFS/FornaxA/centreHI/FA_centre/mom0NHI.fits\n",
      "\t+---------+\n",
      "\t Inputs loaded\n",
      "\t+---------+\n"
     ]
    }
   ],
   "source": [
    "momHead = hp.printHead(mom0Name)\n",
    "\n",
    "bMaj = Angle(momHead['BMAJ'], u.deg)\n",
    "bMin = Angle(momHead['BMIN'], u.deg)\n",
    "\n",
    "conversionFactor = 3.1e17/(bMaj.arcminute*bMin.arcminute)\n",
    "\n",
    "nHIName=momDir+'mom0NHI.fits'\n",
    "\n",
    "fp.multVal(mom0Name,conversionFactor,nHIName)\n",
    "\n",
    "print '''\\t+---------+\\n\\t Inputs loaded\\n\\t+---------+'''"
   ]
  },
  {
   "cell_type": "code",
   "execution_count": 16,
   "metadata": {},
   "outputs": [
    {
     "name": "stdout",
     "output_type": "stream",
     "text": [
      "SIMPLE \tTrue\n",
      "BITPIX \t-32\n",
      "NAXIS \t3\n",
      "NAXIS1 \t80\n",
      "NAXIS2 \t90\n",
      "NAXIS3 \t490\n",
      "EXTEND \tTrue\n",
      "BSCALE \t1.0\n",
      "BZERO \t0.0\n",
      "BMAJ \t0.00421535078806\n",
      "BMIN \t0.00214837862369\n",
      "BPA \t-89.3305261085\n",
      "BTYPE \tIntensity\n",
      "OBJECT \tNGC1316\n",
      "BUNIT \tJy/beam\n",
      "RADESYS \tICRS\n",
      "LONPOLE \t180.0\n",
      "LATPOLE \t-37.2081998736\n",
      "PC1_1 \t1.0\n",
      "PC2_1 \t0.0\n",
      "PC3_1 \t0.0\n",
      "PC1_2 \t0.0\n",
      "PC2_2 \t1.0\n",
      "PC3_2 \t0.0\n",
      "PC1_3 \t0.0\n",
      "PC2_3 \t0.0\n",
      "PC3_3 \t1.0\n",
      "CTYPE1 \tRA---SIN\n",
      "CRVAL1 \t50.6741208333\n",
      "CDELT1 \t-0.000555555555556\n",
      "CRPIX1 \t40.0\n",
      "CUNIT1 \tdeg\n",
      "CTYPE2 \tDEC--SIN\n",
      "CRVAL2 \t-37.2081998736\n",
      "CDELT2 \t0.000555555555556\n",
      "CRPIX2 \t46.0\n",
      "CUNIT2 \tdeg\n",
      "CTYPE3 \tFREQ\n",
      "CRVAL3 \t1.137664914e+11\n",
      "CDELT3 \t3824570.0\n",
      "CRPIX3 \t1.0\n",
      "CUNIT3 \tHz\n",
      "PV2_1 \t0.0\n",
      "PV2_2 \t0.0\n",
      "RESTFRQ \t1.15271202e+11\n",
      "SPECSYS \tLSRK\n",
      "ALTRVAL \t3913387.57231\n",
      "ALTRPIX \t1.0\n",
      "VELREF \t257\n",
      "COMMENT \tcasacore non-standard usage: 4 LSD, 5 GEO, 6 SOU, 7 GAL\n",
      "TELESCOP \tALMA\n",
      "OBSERVER \tkmatsui\n",
      "DATE-OBS \t2017-10-16T07:11:21.887999\n",
      "TIMESYS \tUTC\n",
      "OBSRA \t50.6741208333\n",
      "OBSDEC \t-37.2081998736\n",
      "OBSGEO-X \t2225142.18027\n",
      "OBSGEO-Y \t-5440307.37035\n",
      "OBSGEO-Z \t-2481029.85187\n",
      "INSTRUME \tALMA\n",
      "DISTANCE \t0.0\n",
      "DATE \t2019-02-01T06:41:12.056000\n",
      "ORIGIN \tCASA 5.4.0-68\n"
     ]
    }
   ],
   "source": [
    "coName = rootDir+'cubes/CO_cube_orig.fits'\n",
    "coNameOut = rootDir+'cubes/CO_cube_orig_vrad.fits'\n",
    "\n",
    "coHead = hp.printHead(coName)\n"
   ]
  },
  {
   "cell_type": "code",
   "execution_count": 17,
   "metadata": {},
   "outputs": [],
   "source": [
    "vel = (coHead['RESTFRQ']-coHead['CRVAL3'])/coHead['RESTFRQ']\n",
    "velStep = (coHead['RESTFRQ']-(coHead['CRVAL3']+coHead['CDELT3']))/coHead['RESTFRQ']\n",
    "velStep = velStep - vel\n",
    "\n",
    "coHead['CRVAL3'] = vel*2.99792458e8\n",
    "coHead['CDELT3'] = velStep*2.99792458e8\n",
    "\n",
    "coHead['CTYPE3'] = 'VRAD'\n",
    "\n",
    "\n",
    "f= fits.open(coName)\n",
    "datas=f[0].data\n",
    "\n",
    "fits.writeto(coNameOut,datas,coHead,overwrite=True)\n"
   ]
  },
  {
   "cell_type": "code",
   "execution_count": null,
   "metadata": {},
   "outputs": [],
   "source": []
  }
 ],
 "metadata": {
  "kernelspec": {
   "display_name": "Python 2",
   "language": "python",
   "name": "python2"
  },
  "language_info": {
   "codemirror_mode": {
    "name": "ipython",
    "version": 2
   },
   "file_extension": ".py",
   "mimetype": "text/x-python",
   "name": "python",
   "nbconvert_exporter": "python",
   "pygments_lexer": "ipython2",
   "version": "2.7.16"
  }
 },
 "nbformat": 4,
 "nbformat_minor": 2
}
