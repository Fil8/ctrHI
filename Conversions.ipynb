{
 "cells": [
  {
   "cell_type": "code",
   "execution_count": 1,
   "metadata": {},
   "outputs": [
    {
     "name": "stdout",
     "output_type": "stream",
     "text": [
      "Populating the interactive namespace from numpy and matplotlib\n",
      "\n",
      "\t+---------+\n",
      "\t Inputs loaded\n",
      "\t+---------+\n"
     ]
    }
   ],
   "source": [
    "import numpy as np\n",
    "from astropy.coordinates import Angle\n",
    "from astropy.io import fits\n",
    "from astropy import units as u \n",
    "from ants import absInt, fluxInt, headPlay, fitsPlay #radiobs modules\n",
    "\n",
    "\n",
    "fl = fluxInt.fluxint()\n",
    "hp = headPlay.headplay()\n",
    "fp = fitsPlay.fitsplay()\n",
    "\n",
    "\n",
    "get_ipython().magic(u'pylab inline')\n",
    "\n",
    "\n",
    "home = '/Users/'\n",
    "home = '/home/'\n",
    "\n",
    "\n",
    "rootDir = home+'maccagni/Projects/MFS/FornaxA/centreHI/'\n",
    "cubeDir = home+'maccagni/data/MFS/MeerKATComm/fa4/cubes/'\n",
    "acaDir = home+'maccagni/data/MFS/FornaxA/ACA/'\n",
    "\n",
    "print('''\\n\\t+---------+\\n\\t Inputs loaded\\n\\t+---------+''')"
   ]
  },
  {
   "cell_type": "markdown",
   "metadata": {},
   "source": [
    "### Convert mom0 to map in column density units\n",
    "\n",
    "$$\n",
    "N_{\\rm HI} = 3.1\\times10^{17} \\frac{SdV}{\\Theta^2}\n",
    "$$\n",
    "\n",
    "- SdV : integrated flux in **Jy m s$^{-1}$** or **mJy km s$^{-1}$**\n",
    "- $\\Theta^2$ : beam size in **arcminutes**"
   ]
  },
  {
   "cell_type": "code",
   "execution_count": 2,
   "metadata": {},
   "outputs": [
    {
     "name": "stdout",
     "output_type": "stream",
     "text": [
      "SIMPLE\tTrue\n",
      "BITPIX\t-32\n",
      "NAXIS\t2\n",
      "NAXIS1\t25\n",
      "NAXIS2\t34\n",
      "CTYPE1\tRA---SIN\n",
      "CRPIX1\t14.0\n",
      "CDELT1\t-0.00138888888889\n",
      "CRVAL1\t50.67375\n",
      "CTYPE2\tDEC--SIN\n",
      "CRPIX2\t18.0\n",
      "CDELT2\t0.00138888888889\n",
      "CRVAL2\t-37.2083333333\n",
      "ORIGIN\tSoFiA 2.0.0\n",
      "SPECSYS\t0.0\n",
      "EQUINOX\t2000.0\n",
      "BUNIT\tJy/beam*m/s\n",
      "BMAJ\t0.00664442496252\n",
      "BMIN\t0.00533499983768\n",
      "BPA\t134.940537921\n",
      "\n",
      "\t+---------+\n",
      "\t Check BUNIT and modify conversion factor accordingly\n",
      "\t+---------+\n"
     ]
    }
   ],
   "source": [
    "#------------------#\n",
    "# 20 asec HI\n",
    "#------------------#\n",
    "\n",
    "momDirIn = rootDir+'inMoms/20asec/'\n",
    "momDirOut = rootDir+'moments/'\n",
    "mom0Name= momDirIn+'MIAPP-t10_6_mom0.fits'\n",
    "\n",
    "nHIName=momDirOut+'mom0_NHI_20asec.fits'\n",
    "\n",
    "momHead = hp.printHead(mom0Name)\n",
    "\n",
    "print '''\\n\\t+---------+\\n\\t Check BUNIT and modify conversion factor accordingly\\n\\t+---------+'''"
   ]
  },
  {
   "cell_type": "code",
   "execution_count": null,
   "metadata": {},
   "outputs": [],
   "source": [
    "bMaj = Angle(momHead['BMAJ'], u.deg)\n",
    "bMin = Angle(momHead['BMIN'], u.deg)\n",
    "\n",
    "conversionFactor = 3.1e17/(bMaj.arcminute*bMin.arcminute)\n",
    "print conversionFactor\n",
    "\n",
    "#multiply by conversion factor\n",
    "fp.multVal(mom0Name,conversionFactor,nHIName)\n",
    "hp.putHead(nHIName,'BUNIT','atoms cm-2')\n",
    "\n",
    "print '''\\n\\t+---------+\\n\\t Conversion to NHI done\\n\\t+---------+'''"
   ]
  },
  {
   "cell_type": "code",
   "execution_count": null,
   "metadata": {},
   "outputs": [],
   "source": [
    "#------------------#\n",
    "# 10 asec HI\n",
    "#------------------#\n",
    "\n",
    "momDirIn = rootDir+'inMoms/10asec/'\n",
    "momDirOut = rootDir+'moments/'\n",
    "mom0Name= momDirIn+'fa4_unf_bin35_th20_dil3_5_mom0.fits'\n",
    "\n",
    "nHIName=momDirOut+'mom0_NHI_10asec.fits'\n",
    "print conversionFactor\n",
    "\n",
    "momHead = hp.printHead(mom0Name)\n",
    "\n",
    "print '''\\n\\t+---------+\\n\\t Check BUNIT and modify conversion factor accordingly\\n\\t+---------+'''\n"
   ]
  },
  {
   "cell_type": "code",
   "execution_count": null,
   "metadata": {},
   "outputs": [],
   "source": [
    "bMaj = Angle(momHead['BMAJ'], u.deg)\n",
    "bMin = Angle(momHead['BMIN'], u.deg)\n",
    "\n",
    "conversionFactor = 3.1e17*1e3/(bMaj.arcminute*bMin.arcminute)\n",
    "print conversionFactor\n",
    "#multiply by conversion factor\n",
    "fp.multVal(mom0Name,conversionFactor,nHIName)\n",
    "hp.putHead(nHIName,'BUNIT','atoms cm-2')\n",
    "print '''\\n\\t+---------+\\n\\t Conversion to NHI done\\n\\t+---------+'''"
   ]
  },
  {
   "cell_type": "markdown",
   "metadata": {},
   "source": [
    "## Convert to same units\n",
    "\n",
    "- **HI**\n",
    "  - the mom0 map at 10 asec is in units of **Jy beam$^{-1} \\cdot$ km s$^{-1}$**. Convert to **Jy beam$^{-1}\\cdot$  m s$^{-1}$** for conformity with mom0 map at 20 asec.\n",
    "    - why does this happen? these mom0 are ouputs of `SoFiA` from cubes that were made with `MeerKATHI`. The only difference should be the tapering.\n",
    "- **CO**\n",
    "  - cube is in **Jy beam$^{-1}\\cdot$ Hz**. Convert to **radio velocity** (**VRAD**) for conformity with HI cubes.\n",
    "  - BUNIT of mom0 map is in **Jy beam$^{-1}\\cdot$ Hz**, but the real units (as in the paper and as HI moment maps) are **Jy beam$^{-1}\\cdot$  m s$^{-1}$**. Need to divide mom0 map by CDELT3 of CO_vrad.fits datacube.\n",
    "      \n",
    "\n",
    "\n",
    "### Line frequencies and velocity conversions\n",
    "----\n",
    "\n",
    "The sky frequency ($\\nu$) at which we must observe a spectral line is derived from the rest frequency of the spectral line ($\\nu_0$), the line-of-sight velocity of the source ($V$), and the speed of light ($c$). The **relativistic velocity**, or **true line-of-sight velocity**, is related to the observed and rest frequencies by:\n",
    "  \n",
    "$$\n",
    "V = \\frac{\\nu_0^2-\\nu^2}{\\nu_0^2+\\nu^2}c\n",
    "$$\n",
    "\n",
    "in astronomy two different approximations are typically used:\n",
    "\n",
    "**Radio velocity (VRAD)**\n",
    "\n",
    "$$\n",
    "V_{\\rm radio} = \\frac{\\nu_0^2-\\nu^2}{\\nu_0^2}c = \\frac{\\lambda^2-\\lambda_0^2}{\\lambda^2}c \n",
    "$$\n",
    "\n",
    "**Optical velocity (VOPT)**\n",
    "\n",
    "$$\n",
    "V_{\\rm opt} = \\frac{\\lambda^2-\\lambda_0^2}{\\lambda_0^2}c = cz\n",
    "$$\n",
    "\n",
    " \n",
    "\n",
    "The radio and optical velocities are not identical **$V_{\\rm opt}\\neq V_{\\rm radio}$** Particularly, $V_{\\rm optical}$ and $V_{\\rm radio}$ diverge for large velocities. \n",
    "\n",
    "Note that the natural spectral axis of radio interferometers is in frequency. The radio convention is a velocity relabeling to the frequency axis. Using the optical velocity and redshift, however, introduces a non-linearity between channel widths and labeling, in particular for large velocity values.\n",
    "\n",
    "----\n",
    "**NRAO**: https://science.nrao.edu/facilities/vla/docs/manuals/obsguide/modes/line\n"
   ]
  },
  {
   "cell_type": "code",
   "execution_count": null,
   "metadata": {},
   "outputs": [],
   "source": [
    "#------------------#\n",
    "# 10 asec HI\n",
    "#------------------#\n",
    "\n",
    "momDirIn = rootDir+'inMoms/10asec/'\n",
    "momDirOut = rootDir+'moments/'\n",
    "mom0Name= momDirIn+'fa4_unf_bin35_th20_dil3_5_mom0.fits'\n",
    "\n",
    "mom0msName=momDirOut+'mom0_10asec.fits'\n",
    "\n",
    "#multiply by conversion factor\n",
    "fp.multVal(mom0Name,1e3,mom0msName)\n",
    "hp.putHead(mom0msName,'BUNIT','Jy/beam*m/s')\n",
    "\n",
    "\n",
    "print '''\\n\\t+---------+\\n\\t Units Converted\\n\\t+---------+'''\n"
   ]
  },
  {
   "cell_type": "code",
   "execution_count": null,
   "metadata": {},
   "outputs": [],
   "source": [
    "#------------------#\n",
    "# CO to VRAD\n",
    "#------------------#\n",
    "coName = acaDir+'NGC1316_TP_7M_CO.feather.image.fits'\n",
    "\n",
    "coNameOut = rootDir+'cubes/CO_vrad.fits'\n",
    "coHead = hp.freqToVrad(coName,coNameOut)\n",
    "\n",
    "print '''\\n\\t+---------+\\n\\t Cube Converted to VRAD\\n\\t+---------+'''\n",
    "\n"
   ]
  },
  {
   "cell_type": "code",
   "execution_count": null,
   "metadata": {},
   "outputs": [],
   "source": [
    "#------------------#\n",
    "# CO BUNIT\n",
    "#------------------#\n",
    "\n",
    "coMomName = acaDir+'NGC1316_TP_7M_CO.feather.image_mom0.fits.gz'\n",
    "momDirOut = rootDir+'moments/'\n",
    "\n",
    "momOutName=momDirOut+'mom0_CO.fits'\n",
    "\n",
    "fileIn = fits.open(coMomName)\n",
    "datas = fileIn[0].data\n",
    "heads  = fileIn[0].header\n",
    "datas = np.divide(datas,-float(coHead['CDELT3']))\n",
    "heads['BUNIT'] = 'Jy/beam*m/s'\n",
    "del heads['DATAMIN']\n",
    "del heads['DATAMAX']\n",
    "fits.writeto(momOutName,datas,heads,overwrite=True)\n",
    "\n",
    "print '''\\n\\t+---------+\\n\\t BUNIT modified\\n\\t+---------+'''\n"
   ]
  },
  {
   "cell_type": "code",
   "execution_count": null,
   "metadata": {},
   "outputs": [],
   "source": []
  }
 ],
 "metadata": {
  "kernelspec": {
   "display_name": "Python 2",
   "language": "python",
   "name": "python2"
  },
  "language_info": {
   "codemirror_mode": {
    "name": "ipython",
    "version": 2
   },
   "file_extension": ".py",
   "mimetype": "text/x-python",
   "name": "python",
   "nbconvert_exporter": "python",
   "pygments_lexer": "ipython2",
   "version": "2.7.16"
  }
 },
 "nbformat": 4,
 "nbformat_minor": 2
}
